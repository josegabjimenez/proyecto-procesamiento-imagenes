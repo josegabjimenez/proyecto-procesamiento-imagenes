{
 "cells": [
  {
   "cell_type": "code",
   "execution_count": 17,
   "metadata": {},
   "outputs": [
    {
     "ename": "ImportError",
     "evalue": "cannot import name 'get_ants_data' from 'ants' (/home/josegabjimenez/Programming/University/6th_semester/imagenes/proyecto-procesamiento-imagenes/venv/lib/python3.8/site-packages/ants/__init__.py)",
     "output_type": "error",
     "traceback": [
      "\u001b[0;31m---------------------------------------------------------------------------\u001b[0m",
      "\u001b[0;31mImportError\u001b[0m                               Traceback (most recent call last)",
      "Cell \u001b[0;32mIn[17], line 2\u001b[0m\n\u001b[1;32m      1\u001b[0m \u001b[39m# import ants\u001b[39;00m\n\u001b[0;32m----> 2\u001b[0m \u001b[39mfrom\u001b[39;00m \u001b[39mants\u001b[39;00m \u001b[39mimport\u001b[39;00m get_ants_data, image_read, resample_image, get_mask, registration\n\u001b[1;32m      3\u001b[0m fi \u001b[39m=\u001b[39m image_read(get_ants_data(\u001b[39m'\u001b[39m\u001b[39m../../images/1/T1.nii.gz\u001b[39m\u001b[39m'\u001b[39m))\n\u001b[1;32m      4\u001b[0m mi \u001b[39m=\u001b[39m image_read(get_ants_data(\u001b[39m'\u001b[39m\u001b[39m../../images/1/FLAIR.nii.gz\u001b[39m\u001b[39m'\u001b[39m))\n",
      "\u001b[0;31mImportError\u001b[0m: cannot import name 'get_ants_data' from 'ants' (/home/josegabjimenez/Programming/University/6th_semester/imagenes/proyecto-procesamiento-imagenes/venv/lib/python3.8/site-packages/ants/__init__.py)"
     ]
    }
   ],
   "source": [
    "# import ants\n",
    "from ants import get_ants_data, image_read, resample_image, get_mask, registration\n",
    "fi = image_read(get_ants_data('../../images/1/T1.nii.gz'))\n",
    "mi = image_read(get_ants_data('../../images/1/FLAIR.nii.gz'))\n",
    "fi = resample_image(fi, (60,60), 1, 0)\n",
    "mi = resample_image(mi, (60,60), 1, 0)\n",
    "mytx = registration(fixed=fi, moving=mi, type_of_transform = 'SyN' )"
   ]
  }
 ],
 "metadata": {
  "kernelspec": {
   "display_name": "venv",
   "language": "python",
   "name": "python3"
  },
  "language_info": {
   "codemirror_mode": {
    "name": "ipython",
    "version": 3
   },
   "file_extension": ".py",
   "mimetype": "text/x-python",
   "name": "python",
   "nbconvert_exporter": "python",
   "pygments_lexer": "ipython3",
   "version": "3.8.10"
  },
  "orig_nbformat": 4
 },
 "nbformat": 4,
 "nbformat_minor": 2
}
